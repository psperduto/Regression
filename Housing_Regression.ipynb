{
 "cells": [
  {
   "cell_type": "code",
   "execution_count": 2,
   "metadata": {},
   "outputs": [],
   "source": [
    "import pandas as pd\n",
    "import numpy as np\n",
    "from scipy import stats\n",
    "from sklearn.metrics import mean_squared_error\n",
    "\n",
    "import matplotlib.pyplot as plt\n",
    "import seaborn as sns\n",
    "\n",
    "from sklearn.model_selection import train_test_split, GridSearchCV, cross_val_score\n",
    "from sklearn.compose import make_column_transformer, ColumnTransformer\n",
    "from sklearn.pipeline import Pipeline, make_pipeline\n",
    "from sklearn.impute import SimpleImputer\n",
    "from sklearn.preprocessing import OrdinalEncoder, StandardScaler,OneHotEncoder\n",
    "\n",
    "from sklearn.linear_model import LinearRegression, Ridge, ElasticNet, Lasso\n",
    "from sklearn.ensemble import RandomForestRegressor\n",
    "from xgboost import XGBRegressor\n",
    "from catboost import CatBoostRegressor\n",
    "from sklearn.kernel_ridge import KernelRidge\n",
    "\n"
   ]
  },
  {
   "cell_type": "code",
   "execution_count": 3,
   "metadata": {},
   "outputs": [],
   "source": [
    "train_df = pd.read_csv('train.csv')\n",
    "test_df = pd.read_csv('test.csv')"
   ]
  },
  {
   "cell_type": "code",
   "execution_count": null,
   "metadata": {},
   "outputs": [],
   "source": [
    "train_df.columns"
   ]
  },
  {
   "cell_type": "code",
   "execution_count": 7,
   "metadata": {},
   "outputs": [
    {
     "name": "stdout",
     "output_type": "stream",
     "text": [
      "                Id   MSSubClass  LotFrontage        LotArea  OverallQual  \\\n",
      "count  1460.000000  1460.000000  1201.000000    1460.000000  1460.000000   \n",
      "mean    730.500000    56.897260    70.049958   10516.828082     6.099315   \n",
      "std     421.610009    42.300571    24.284752    9981.264932     1.382997   \n",
      "min       1.000000    20.000000    21.000000    1300.000000     1.000000   \n",
      "25%     365.750000    20.000000    59.000000    7553.500000     5.000000   \n",
      "50%     730.500000    50.000000    69.000000    9478.500000     6.000000   \n",
      "75%    1095.250000    70.000000    80.000000   11601.500000     7.000000   \n",
      "max    1460.000000   190.000000   313.000000  215245.000000    10.000000   \n",
      "\n",
      "       OverallCond    YearBuilt  YearRemodAdd   MasVnrArea   BsmtFinSF1  \\\n",
      "count  1460.000000  1460.000000   1460.000000  1452.000000  1460.000000   \n",
      "mean      5.575342  1971.267808   1984.865753   103.685262   443.639726   \n",
      "std       1.112799    30.202904     20.645407   181.066207   456.098091   \n",
      "min       1.000000  1872.000000   1950.000000     0.000000     0.000000   \n",
      "25%       5.000000  1954.000000   1967.000000     0.000000     0.000000   \n",
      "50%       5.000000  1973.000000   1994.000000     0.000000   383.500000   \n",
      "75%       6.000000  2000.000000   2004.000000   166.000000   712.250000   \n",
      "max       9.000000  2010.000000   2010.000000  1600.000000  5644.000000   \n",
      "\n",
      "        BsmtFinSF2    BsmtUnfSF  TotalBsmtSF     1stFlrSF     2ndFlrSF  \\\n",
      "count  1460.000000  1460.000000  1460.000000  1460.000000  1460.000000   \n",
      "mean     46.549315   567.240411  1057.429452  1162.626712   346.992466   \n",
      "std     161.319273   441.866955   438.705324   386.587738   436.528436   \n",
      "min       0.000000     0.000000     0.000000   334.000000     0.000000   \n",
      "25%       0.000000   223.000000   795.750000   882.000000     0.000000   \n",
      "50%       0.000000   477.500000   991.500000  1087.000000     0.000000   \n",
      "75%       0.000000   808.000000  1298.250000  1391.250000   728.000000   \n",
      "max    1474.000000  2336.000000  6110.000000  4692.000000  2065.000000   \n",
      "\n",
      "       LowQualFinSF    GrLivArea  BsmtFullBath  BsmtHalfBath     FullBath  \\\n",
      "count   1460.000000  1460.000000   1460.000000   1460.000000  1460.000000   \n",
      "mean       5.844521  1515.463699      0.425342      0.057534     1.565068   \n",
      "std       48.623081   525.480383      0.518911      0.238753     0.550916   \n",
      "min        0.000000   334.000000      0.000000      0.000000     0.000000   \n",
      "25%        0.000000  1129.500000      0.000000      0.000000     1.000000   \n",
      "50%        0.000000  1464.000000      0.000000      0.000000     2.000000   \n",
      "75%        0.000000  1776.750000      1.000000      0.000000     2.000000   \n",
      "max      572.000000  5642.000000      3.000000      2.000000     3.000000   \n",
      "\n",
      "          HalfBath  BedroomAbvGr  KitchenAbvGr  TotRmsAbvGrd   Fireplaces  \\\n",
      "count  1460.000000   1460.000000   1460.000000   1460.000000  1460.000000   \n",
      "mean      0.382877      2.866438      1.046575      6.517808     0.613014   \n",
      "std       0.502885      0.815778      0.220338      1.625393     0.644666   \n",
      "min       0.000000      0.000000      0.000000      2.000000     0.000000   \n",
      "25%       0.000000      2.000000      1.000000      5.000000     0.000000   \n",
      "50%       0.000000      3.000000      1.000000      6.000000     1.000000   \n",
      "75%       1.000000      3.000000      1.000000      7.000000     1.000000   \n",
      "max       2.000000      8.000000      3.000000     14.000000     3.000000   \n",
      "\n",
      "       GarageYrBlt   GarageCars   GarageArea   WoodDeckSF  OpenPorchSF  \\\n",
      "count  1379.000000  1460.000000  1460.000000  1460.000000  1460.000000   \n",
      "mean   1978.506164     1.767123   472.980137    94.244521    46.660274   \n",
      "std      24.689725     0.747315   213.804841   125.338794    66.256028   \n",
      "min    1900.000000     0.000000     0.000000     0.000000     0.000000   \n",
      "25%    1961.000000     1.000000   334.500000     0.000000     0.000000   \n",
      "50%    1980.000000     2.000000   480.000000     0.000000    25.000000   \n",
      "75%    2002.000000     2.000000   576.000000   168.000000    68.000000   \n",
      "max    2010.000000     4.000000  1418.000000   857.000000   547.000000   \n",
      "\n",
      "       EnclosedPorch    3SsnPorch  ScreenPorch     PoolArea       MiscVal  \\\n",
      "count    1460.000000  1460.000000  1460.000000  1460.000000   1460.000000   \n",
      "mean       21.954110     3.409589    15.060959     2.758904     43.489041   \n",
      "std        61.119149    29.317331    55.757415    40.177307    496.123024   \n",
      "min         0.000000     0.000000     0.000000     0.000000      0.000000   \n",
      "25%         0.000000     0.000000     0.000000     0.000000      0.000000   \n",
      "50%         0.000000     0.000000     0.000000     0.000000      0.000000   \n",
      "75%         0.000000     0.000000     0.000000     0.000000      0.000000   \n",
      "max       552.000000   508.000000   480.000000   738.000000  15500.000000   \n",
      "\n",
      "            MoSold       YrSold      SalePrice  \n",
      "count  1460.000000  1460.000000    1460.000000  \n",
      "mean      6.321918  2007.815753  180921.195890  \n",
      "std       2.703626     1.328095   79442.502883  \n",
      "min       1.000000  2006.000000   34900.000000  \n",
      "25%       5.000000  2007.000000  129975.000000  \n",
      "50%       6.000000  2008.000000  163000.000000  \n",
      "75%       8.000000  2009.000000  214000.000000  \n",
      "max      12.000000  2010.000000  755000.000000  \n"
     ]
    }
   ],
   "source": [
    "import pandas as pd\n",
    "\n",
    "# Adjust display settings\n",
    "pd.set_option('display.max_rows', None)\n",
    "pd.set_option('display.max_columns', None)\n",
    "pd.set_option('display.width', None)\n",
    "\n",
    "# Assuming train_df is your DataFrame\n",
    "print(train_df.describe())\n"
   ]
  },
  {
   "cell_type": "code",
   "execution_count": null,
   "metadata": {},
   "outputs": [],
   "source": []
  }
 ],
 "metadata": {
  "kernelspec": {
   "display_name": "base",
   "language": "python",
   "name": "python3"
  },
  "language_info": {
   "codemirror_mode": {
    "name": "ipython",
    "version": 3
   },
   "file_extension": ".py",
   "mimetype": "text/x-python",
   "name": "python",
   "nbconvert_exporter": "python",
   "pygments_lexer": "ipython3",
   "version": "3.12.4"
  }
 },
 "nbformat": 4,
 "nbformat_minor": 2
}
